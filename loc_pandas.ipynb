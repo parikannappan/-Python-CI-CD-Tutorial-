{
  "nbformat": 4,
  "nbformat_minor": 0,
  "metadata": {
    "colab": {
      "name": "loc_pandas.ipynb",
      "provenance": [],
      "authorship_tag": "ABX9TyPONLkjAFOpyMOvJo7ssb+u",
      "include_colab_link": true
    },
    "kernelspec": {
      "name": "python3",
      "display_name": "Python 3"
    }
  },
  "cells": [
    {
      "cell_type": "markdown",
      "metadata": {
        "id": "view-in-github",
        "colab_type": "text"
      },
      "source": [
        "<a href=\"https://colab.research.google.com/github/parikannappan/-Python-CI-CD-Tutorial-/blob/master/loc_pandas.ipynb\" target=\"_parent\"><img src=\"https://colab.research.google.com/assets/colab-badge.svg\" alt=\"Open In Colab\"/></a>"
      ]
    },
    {
      "cell_type": "code",
      "metadata": {
        "id": "8iaUJ6G3iMlb",
        "colab_type": "code",
        "colab": {
          "base_uri": "https://localhost:8080/",
          "height": 134
        },
        "outputId": "e42e26b1-dcfc-41c6-f7c9-b549d4ef2139"
      },
      "source": [
        "import pandas as pd\n",
        " \n",
        "df = pd.DataFrame({'Age': [30, 20, 22, 40, 32, 28, 39],\n",
        "                   'Color': ['Blue', 'Green', 'Red', 'White', 'Gray', 'Black',\n",
        "                             'Red'],\n",
        "                   'Food': ['Steak', 'Lamb', 'Mango', 'Apple', 'Cheese',\n",
        "                            'Melon', 'Beans'],\n",
        "                   'Height': [165, 70, 120, 80, 180, 172, 150],\n",
        "                   'Score': [4.6, 8.3, 9.0, 3.3, 1.8, 9.5, 2.2],\n",
        "                   'State': ['NY', 'TX', 'FL', 'AL', 'AK', 'TX', 'TX']\n",
        "                   },\n",
        "                  index=['Jane', 'Nick', 'Aaron', 'Penelope', 'Dean',\n",
        "                         'Christina', 'Cornelia'])\n",
        " \n",
        "\n",
        " "
      ],
      "execution_count": null,
      "outputs": [
        {
          "output_type": "stream",
          "text": [
            "\n",
            " -- loc -- \n",
            "\n",
            "           Color  Height\n",
            "Nick       Green      70\n",
            "Aaron        Red     120\n",
            "Christina  Black     172\n"
          ],
          "name": "stdout"
        }
      ]
    },
    {
      "cell_type": "code",
      "metadata": {
        "id": "OIH6ld5biaon",
        "colab_type": "code",
        "colab": {
          "base_uri": "https://localhost:8080/",
          "height": 254
        },
        "outputId": "4d17f694-f029-4280-d6f9-17c5519d3485"
      },
      "source": [
        "df"
      ],
      "execution_count": null,
      "outputs": [
        {
          "output_type": "execute_result",
          "data": {
            "text/html": [
              "<div>\n",
              "<style scoped>\n",
              "    .dataframe tbody tr th:only-of-type {\n",
              "        vertical-align: middle;\n",
              "    }\n",
              "\n",
              "    .dataframe tbody tr th {\n",
              "        vertical-align: top;\n",
              "    }\n",
              "\n",
              "    .dataframe thead th {\n",
              "        text-align: right;\n",
              "    }\n",
              "</style>\n",
              "<table border=\"1\" class=\"dataframe\">\n",
              "  <thead>\n",
              "    <tr style=\"text-align: right;\">\n",
              "      <th></th>\n",
              "      <th>Age</th>\n",
              "      <th>Color</th>\n",
              "      <th>Food</th>\n",
              "      <th>Height</th>\n",
              "      <th>Score</th>\n",
              "      <th>State</th>\n",
              "    </tr>\n",
              "  </thead>\n",
              "  <tbody>\n",
              "    <tr>\n",
              "      <th>Jane</th>\n",
              "      <td>30</td>\n",
              "      <td>Blue</td>\n",
              "      <td>Steak</td>\n",
              "      <td>165</td>\n",
              "      <td>4.6</td>\n",
              "      <td>NY</td>\n",
              "    </tr>\n",
              "    <tr>\n",
              "      <th>Nick</th>\n",
              "      <td>20</td>\n",
              "      <td>Green</td>\n",
              "      <td>Lamb</td>\n",
              "      <td>70</td>\n",
              "      <td>8.3</td>\n",
              "      <td>TX</td>\n",
              "    </tr>\n",
              "    <tr>\n",
              "      <th>Aaron</th>\n",
              "      <td>22</td>\n",
              "      <td>Red</td>\n",
              "      <td>Mango</td>\n",
              "      <td>120</td>\n",
              "      <td>9.0</td>\n",
              "      <td>FL</td>\n",
              "    </tr>\n",
              "    <tr>\n",
              "      <th>Penelope</th>\n",
              "      <td>40</td>\n",
              "      <td>White</td>\n",
              "      <td>Apple</td>\n",
              "      <td>80</td>\n",
              "      <td>3.3</td>\n",
              "      <td>AL</td>\n",
              "    </tr>\n",
              "    <tr>\n",
              "      <th>Dean</th>\n",
              "      <td>32</td>\n",
              "      <td>Gray</td>\n",
              "      <td>Cheese</td>\n",
              "      <td>180</td>\n",
              "      <td>1.8</td>\n",
              "      <td>AK</td>\n",
              "    </tr>\n",
              "    <tr>\n",
              "      <th>Christina</th>\n",
              "      <td>28</td>\n",
              "      <td>Black</td>\n",
              "      <td>Melon</td>\n",
              "      <td>172</td>\n",
              "      <td>9.5</td>\n",
              "      <td>TX</td>\n",
              "    </tr>\n",
              "    <tr>\n",
              "      <th>Cornelia</th>\n",
              "      <td>39</td>\n",
              "      <td>Red</td>\n",
              "      <td>Beans</td>\n",
              "      <td>150</td>\n",
              "      <td>2.2</td>\n",
              "      <td>TX</td>\n",
              "    </tr>\n",
              "  </tbody>\n",
              "</table>\n",
              "</div>"
            ],
            "text/plain": [
              "           Age  Color    Food  Height  Score State\n",
              "Jane        30   Blue   Steak     165    4.6    NY\n",
              "Nick        20  Green    Lamb      70    8.3    TX\n",
              "Aaron       22    Red   Mango     120    9.0    FL\n",
              "Penelope    40  White   Apple      80    3.3    AL\n",
              "Dean        32   Gray  Cheese     180    1.8    AK\n",
              "Christina   28  Black   Melon     172    9.5    TX\n",
              "Cornelia    39    Red   Beans     150    2.2    TX"
            ]
          },
          "metadata": {
            "tags": []
          },
          "execution_count": 2
        }
      ]
    },
    {
      "cell_type": "code",
      "metadata": {
        "id": "2DdVApdCiY7C",
        "colab_type": "code",
        "colab": {
          "base_uri": "https://localhost:8080/",
          "height": 134
        },
        "outputId": "30829b2f-d97f-4e1c-9592-c05f14064a04"
      },
      "source": [
        "print(\"\\n -- loc -- \\n\")\n",
        "print(df.loc[df['Age'] < 30, ['Color', 'Height']])"
      ],
      "execution_count": null,
      "outputs": [
        {
          "output_type": "stream",
          "text": [
            "\n",
            " -- loc -- \n",
            "\n",
            "           Color  Height\n",
            "Nick       Green      70\n",
            "Aaron        Red     120\n",
            "Christina  Black     172\n"
          ],
          "name": "stdout"
        }
      ]
    },
    {
      "cell_type": "code",
      "metadata": {
        "id": "k3LMPBqwi88-",
        "colab_type": "code",
        "colab": {
          "base_uri": "https://localhost:8080/",
          "height": 84
        },
        "outputId": "dcbb4e57-53d9-4980-c27e-7bca3a17dda0"
      },
      "source": [
        "print(df.iloc[(df['Age'] < 30).values, [1, 3]])"
      ],
      "execution_count": null,
      "outputs": [
        {
          "output_type": "stream",
          "text": [
            "           Color  Height\n",
            "Nick       Green      70\n",
            "Aaron        Red     120\n",
            "Christina  Black     172\n"
          ],
          "name": "stdout"
        }
      ]
    },
    {
      "cell_type": "code",
      "metadata": {
        "id": "N_vocZ18jVlW",
        "colab_type": "code",
        "colab": {
          "base_uri": "https://localhost:8080/",
          "height": 84
        },
        "outputId": "843656eb-e5d5-46e3-bd25-f1e151040de8"
      },
      "source": [
        "print(df.iloc[(df['Age'] < 30).values])"
      ],
      "execution_count": null,
      "outputs": [
        {
          "output_type": "stream",
          "text": [
            "           Age  Color   Food  Height  Score State\n",
            "Nick        20  Green   Lamb      70    8.3    TX\n",
            "Aaron       22    Red  Mango     120    9.0    FL\n",
            "Christina   28  Black  Melon     172    9.5    TX\n"
          ],
          "name": "stdout"
        }
      ]
    }
  ]
}